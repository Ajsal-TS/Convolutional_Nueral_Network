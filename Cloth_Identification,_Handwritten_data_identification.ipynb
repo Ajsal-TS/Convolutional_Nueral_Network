{
  "cells": [
    {
      "cell_type": "code",
      "execution_count": null,
      "metadata": {
        "id": "uJsd6LnIvz9B"
      },
      "outputs": [],
      "source": [
        "import numpy as np\n",
        "import tensorflow as tf\n",
        "from tensorflow import keras\n",
        "import matplotlib.pyplot as plt\n"
      ]
    },
    {
      "cell_type": "code",
      "execution_count": null,
      "metadata": {
        "id": "9IPwrslAGVTa"
      },
      "outputs": [],
      "source": [
        "model=tf.keras.Sequential(keras.layers.Dense(units=1,input_shape=[1]))"
      ]
    },
    {
      "cell_type": "code",
      "execution_count": null,
      "metadata": {
        "id": "1oWqVV2eG6Yr"
      },
      "outputs": [],
      "source": [
        "x=np.array([1.0,2.0,3.0,4.0,5.0],dtype=float)\n",
        "y=np.array([100,150,200,250,300],dtype=float)"
      ]
    },
    {
      "cell_type": "code",
      "execution_count": null,
      "metadata": {
        "id": "6ErD0TtCHUKu"
      },
      "outputs": [],
      "source": [
        "model.compile(optimizer='sgd',loss=keras.losses.mean_squared_error)\n",
        "model.fit(x,y,epochs=500)"
      ]
    },
    {
      "cell_type": "code",
      "execution_count": null,
      "metadata": {
        "colab": {
          "base_uri": "https://localhost:8080/"
        },
        "id": "sFcVAXBPIOYR",
        "outputId": "c9dddf34-17bc-4ac7-e087-8dd1358e7042"
      },
      "outputs": [
        {
          "name": "stdout",
          "output_type": "stream",
          "text": [
            "1/1 [==============================] - 0s 105ms/step\n"
          ]
        },
        {
          "data": {
            "text/plain": [
              "array([[405.74026]], dtype=float32)"
            ]
          },
          "execution_count": 8,
          "metadata": {},
          "output_type": "execute_result"
        }
      ],
      "source": [
        "model.predict([7.0])"
      ]
    },
    {
      "cell_type": "markdown",
      "metadata": {
        "id": "lNqM9TLgswZi"
      },
      "source": [
        "# ***SOFTMAX***"
      ]
    },
    {
      "cell_type": "code",
      "execution_count": null,
      "metadata": {
        "colab": {
          "base_uri": "https://localhost:8080/"
        },
        "id": "a32cDZl7s2ry",
        "outputId": "acf4d627-2c5c-4e52-e808-791f64448e77"
      },
      "outputs": [
        {
          "name": "stdout",
          "output_type": "stream",
          "text": [
            "input to softmax function: [[1. 3. 4. 2.]]\n",
            "output of softmax function: [[0.0320586  0.23688282 0.64391426 0.08714432]]\n"
          ]
        }
      ],
      "source": [
        "inputs = np.array([[1.0, 3.0, 4.0, 2.0]])\n",
        "inputs = tf.convert_to_tensor(inputs)\n",
        "print(f'input to softmax function: {inputs.numpy()}')\n",
        "\n",
        "# Feed the inputs to a softmax activation function\n",
        "outputs = tf.keras.activations.softmax(inputs)\n",
        "print(f'output of softmax function: {outputs.numpy()}')"
      ]
    },
    {
      "cell_type": "code",
      "execution_count": null,
      "metadata": {
        "colab": {
          "base_uri": "https://localhost:8080/"
        },
        "id": "zQlHMOJ3xQDk",
        "outputId": "2be2b189-9eca-483d-83c0-0397facd9448"
      },
      "outputs": [
        {
          "name": "stdout",
          "output_type": "stream",
          "text": [
            "sum of outputs: 1.0\n",
            "class with highest probability: 2\n"
          ]
        }
      ],
      "source": [
        "sum = tf.reduce_sum(outputs)\n",
        "print(f'sum of outputs: {sum}')\n",
        "prediction = np.argmax(outputs)\n",
        "print(f'class with highest probability: {prediction}')"
      ]
    },
    {
      "cell_type": "markdown",
      "metadata": {
        "id": "FWUVM9qzeFW5"
      },
      "source": [
        "# ***CLOTH IDENTIFICATION***"
      ]
    },
    {
      "cell_type": "markdown",
      "source": [],
      "metadata": {
        "id": "1wCrxy-HX7Gp"
      }
    },
    {
      "cell_type": "code",
      "execution_count": null,
      "metadata": {
        "id": "OxR1BaeTeJ-4"
      },
      "outputs": [],
      "source": [
        "dress_data=tf.keras.datasets.fashion_mnist\n",
        "(a_image,a_label),(b_image,b_label)=dress_data.load_data()\n"
      ]
    },
    {
      "cell_type": "code",
      "execution_count": null,
      "metadata": {
        "colab": {
          "base_uri": "https://localhost:8080/",
          "height": 447
        },
        "id": "hq72lk6If6Zq",
        "outputId": "358ad9f6-f97f-4246-d2a2-e4ac7dd75073"
      },
      "outputs": [
        {
          "name": "stdout",
          "output_type": "stream",
          "text": [
            "2\n"
          ]
        },
        {
          "data": {
            "image/png": "[encoded data removed]",
            "text/plain": [
              "<Figure size 640x480 with 1 Axes>"
            ]
          },
          "metadata": {},
          "output_type": "display_data"
        }
      ],
      "source": [
        "plt.imshow(a_image[10])\n",
        "np.set_printoptions(linewidth=320)\n",
        "print(a_label[45])"
      ]
    },
    {
      "cell_type": "code",
      "execution_count": null,
      "metadata": {
        "id": "MVl7FwNxgzgY"
      },
      "outputs": [],
      "source": [
        "a_image=a_image/255    #to normalize value between 0 and 1 since this pixel value contains from 0 to 255\n",
        "b_image=b_image/255"
      ]
    },
    {
      "cell_type": "code",
      "execution_count": null,
      "metadata": {
        "id": "GEIsdswZnI4o"
      },
      "outputs": [],
      "source": [
        "from keras.losses import sparse_categorical_crossentropy\n",
        "from keras.optimizers import Adam"
      ]
    },
    {
      "cell_type": "code",
      "execution_count": null,
      "metadata": {
        "id": "o5wsVqA2wGiB"
      },
      "outputs": [],
      "source": [
        "class cback(tf.keras.callbacks.Callback):\n",
        "  def on_epoch_end(self,epoch,logs={}):\n",
        "    if (logs.get('loss')>0.4):\n",
        "      self.model.stop_training=True\n",
        "cb=cback()"
      ]
    },
    {
      "cell_type": "code",
      "execution_count": null,
      "metadata": {
        "id": "OqnOl6CwhbYE"
      },
      "outputs": [],
      "source": [
        "model=tf.keras.Sequential([keras.layers.Flatten(),keras.layers.Dense(units=128,activation='relu'),keras.layers.Dense(units=10,activation='softmax')])"
      ]
    },
    {
      "cell_type": "code",
      "execution_count": null,
      "metadata": {
        "id": "alu3JUMkm7ct"
      },
      "outputs": [],
      "source": [
        "model.compile(optimizer=Adam(),loss='sparse_categorical_crossentropy',metrics=['accuracy'])"
      ]
    },
    {
      "cell_type": "code",
      "execution_count": null,
      "metadata": {
        "id": "KdpC2s33pHu0"
      },
      "outputs": [],
      "source": [
        "model.fit(a_image,a_label,epochs=60,callbacks=[cb])"
      ]
    },
    {
      "cell_type": "code",
      "execution_count": null,
      "metadata": {
        "colab": {
          "base_uri": "https://localhost:8080/"
        },
        "id": "BYqtqXKQpt7L",
        "outputId": "8828c44b-ae97-42b4-e521-ddb17f5d09ca"
      },
      "outputs": [
        {
          "name": "stdout",
          "output_type": "stream",
          "text": [
            "313/313 [==============================] - 1s 2ms/step - loss: 0.5740 - accuracy: 0.8871\n"
          ]
        },
        {
          "data": {
            "text/plain": [
              "[0.5739753246307373, 0.8870999813079834]"
            ]
          },
          "execution_count": 53,
          "metadata": {},
          "output_type": "execute_result"
        }
      ],
      "source": [
        "model.evaluate(b_image,b_label)"
      ]
    },
    {
      "cell_type": "code",
      "execution_count": null,
      "metadata": {
        "colab": {
          "base_uri": "https://localhost:8080/"
        },
        "id": "9pclQAbirqZF",
        "outputId": "dde5982c-beea-4f45-caba-38ee913aabc1"
      },
      "outputs": [
        {
          "name": "stdout",
          "output_type": "stream",
          "text": [
            "9\n"
          ]
        }
      ],
      "source": [
        "print(b_label[0])"
      ]
    },
    {
      "cell_type": "code",
      "execution_count": null,
      "metadata": {
        "colab": {
          "base_uri": "https://localhost:8080/",
          "height": 447
        },
        "id": "cYsekHfer4WW",
        "outputId": "c6501014-6da0-4630-d173-ae8a6af7e442"
      },
      "outputs": [
        {
          "data": {
            "text/plain": [
              "<matplotlib.image.AxesImage at 0x7e3e9c6c47f0>"
            ]
          },
          "execution_count": 59,
          "metadata": {},
          "output_type": "execute_result"
        },
        {
          "data": {
            "image/png": "[encoded data removed]",
            "text/plain": [
              "<Figure size 640x480 with 1 Axes>"
            ]
          },
          "metadata": {},
          "output_type": "display_data"
        }
      ],
      "source": [
        "plt.imshow(b_image[701])"
      ]
    },
    {
      "cell_type": "markdown",
      "metadata": {
        "id": "iyxLKR9nWC-C"
      },
      "source": [
        "# ***handwritten data***"
      ]
    },
    {
      "cell_type": "code",
      "execution_count": null,
      "metadata": {
        "id": "Gym5x6G4WJsx"
      },
      "outputs": [],
      "source": [
        "data=tf.keras.datasets.mnist"
      ]
    },
    {
      "cell_type": "code",
      "execution_count": null,
      "metadata": {
        "id": "Icu4FWqyWZQ-"
      },
      "outputs": [],
      "source": [
        "(c_image,c_label),(d_image,d_label)=data.load_data()"
      ]
    },
    {
      "cell_type": "code",
      "execution_count": null,
      "metadata": {
        "colab": {
          "base_uri": "https://localhost:8080/",
          "height": 447
        },
        "id": "SL66BxZ6W9JC",
        "outputId": "d23a0aef-43bd-46a7-e7ca-4a75b204d758"
      },
      "outputs": [
        {
          "data": {
            "text/plain": [
              "<matplotlib.image.AxesImage at 0x7bf20c363910>"
            ]
          },
          "execution_count": 37,
          "metadata": {},
          "output_type": "execute_result"
        },
        {
          "data": {
            "image/png": "[encoded data removed]",
            "text/plain": [
              "<Figure size 640x480 with 1 Axes>"
            ]
          },
          "metadata": {},
          "output_type": "display_data"
        }
      ],
      "source": [
        "plt.imshow(c_image[0])"
      ]
    },
    {
      "cell_type": "code",
      "execution_count": null,
      "metadata": {
        "colab": {
          "base_uri": "https://localhost:8080/"
        },
        "id": "r1fAXkw6XMtb",
        "outputId": "054e064f-f282-4852-de9a-eab49eabfa86"
      },
      "outputs": [
        {
          "name": "stdout",
          "output_type": "stream",
          "text": [
            "5\n"
          ]
        }
      ],
      "source": [
        "np.set_printoptions(linewidth=320)\n",
        "print(c_label[0])"
      ]
    },
    {
      "cell_type": "code",
      "execution_count": null,
      "metadata": {
        "colab": {
          "base_uri": "https://localhost:8080/"
        },
        "id": "Niiw_sKvXdUP",
        "outputId": "690f1258-5ccc-4295-b4f1-eef17fe79385"
      },
      "outputs": [
        {
          "name": "stdout",
          "output_type": "stream",
          "text": [
            "[5 0 4 ... 5 6 8]\n"
          ]
        }
      ],
      "source": [
        "print(c_label)"
      ]
    },
    {
      "cell_type": "code",
      "execution_count": null,
      "metadata": {
        "id": "Mp3aC2nTXmRQ"
      },
      "outputs": [],
      "source": [
        "c_image=c_image/255\n",
        "d_image=d_image/255\n",
        "from keras.losses import SparseCategoricalCrossentropy"
      ]
    },
    {
      "cell_type": "code",
      "execution_count": null,
      "metadata": {
        "id": "LbUR8Q2uXuPU"
      },
      "outputs": [],
      "source": [
        "model=tf.keras.Sequential([keras.layers.Flatten(),keras.layers.Dense(units=400,activation='relu'),keras.layers.Dense(units=10,activation='softmax')])"
      ]
    },
    {
      "cell_type": "code",
      "execution_count": null,
      "metadata": {
        "id": "TjJedOUMZFJw"
      },
      "outputs": [],
      "source": [
        "class cbc(tf.keras.callbacks.Callback):\n",
        "  def on_epoch_end(self,epoch,logs={}):\n",
        "    if(logs.get('accuracy')>.98):\n",
        "      self.model.stop_training=True\n",
        "cbs=cbc()"
      ]
    },
    {
      "cell_type": "code",
      "execution_count": null,
      "metadata": {
        "id": "P2e2HiR6a-WW"
      },
      "outputs": [],
      "source": [
        "\n",
        "model.compile(optimizer='Adam',loss='SparseCategoricalCrossentropy',metrics=['accuracy'])"
      ]
    },
    {
      "cell_type": "code",
      "execution_count": null,
      "metadata": {
        "colab": {
          "base_uri": "https://localhost:8080/"
        },
        "id": "aF1CJ0RFbauc",
        "outputId": "175fcf8d-e5c3-4f43-b288-16aa528e0bf2"
      },
      "outputs": [
        {
          "name": "stdout",
          "output_type": "stream",
          "text": [
            "Epoch 1/14\n",
            "1875/1875 [==============================] - 14s 7ms/step - loss: 0.2100 - accuracy: 0.9383\n",
            "Epoch 2/14\n",
            "1875/1875 [==============================] - 14s 7ms/step - loss: 0.0827 - accuracy: 0.9748\n",
            "Epoch 3/14\n",
            "1875/1875 [==============================] - 14s 7ms/step - loss: 0.0547 - accuracy: 0.9831\n"
          ]
        },
        {
          "data": {
            "text/plain": [
              "<keras.callbacks.History at 0x7bf20ea2ece0>"
            ]
          },
          "execution_count": 42,
          "metadata": {},
          "output_type": "execute_result"
        }
      ],
      "source": [
        "model.fit(c_image,c_label,epochs=14,callbacks=[cbs])"
      ]
    },
    {
      "cell_type": "code",
      "execution_count": null,
      "metadata": {
        "colab": {
          "base_uri": "https://localhost:8080/"
        },
        "id": "JeZ0K64Mcuvs",
        "outputId": "1b4a443a-d0fb-4ed5-f845-94c560989531"
      },
      "outputs": [
        {
          "name": "stdout",
          "output_type": "stream",
          "text": [
            "313/313 [==============================] - 1s 3ms/step - loss: 0.0679 - accuracy: 0.9786\n"
          ]
        },
        {
          "data": {
            "text/plain": [
              "[0.06794280558824539, 0.978600025177002]"
            ]
          },
          "execution_count": 43,
          "metadata": {},
          "output_type": "execute_result"
        }
      ],
      "source": [
        "model.evaluate(d_image,d_label)"
      ]
    },
    {
      "cell_type": "code",
      "execution_count": null,
      "metadata": {
        "colab": {
          "base_uri": "https://localhost:8080/",
          "height": 447
        },
        "id": "rmj7hq7ndjdr",
        "outputId": "cc44c301-6ef3-4e4e-9d1c-fc2650e15e6c"
      },
      "outputs": [
        {
          "data": {
            "text/plain": [
              "<matplotlib.image.AxesImage at 0x7bf209c58550>"
            ]
          },
          "execution_count": 45,
          "metadata": {},
          "output_type": "execute_result"
        },
        {
          "data": {
            "image/png": "[encoded data removed]",
            "text/plain": [
              "<Figure size 640x480 with 1 Axes>"
            ]
          },
          "metadata": {},
          "output_type": "display_data"
        }
      ],
      "source": [
        "plt.imshow(d_image[0])"
      ]
    },
    {
      "cell_type": "code",
      "execution_count": null,
      "metadata": {
        "id": "tYYWGRBbdxL_"
      },
      "outputs": [],
      "source": [
        "print(d_label[0])"
      ]
    },
    {
      "cell_type": "markdown",
      "metadata": {
        "id": "mNA1hPdXMclz"
      },
      "source": [
        "# ***Fashion mnist using convolution and pooling***"
      ]
    },
    {
      "cell_type": "code",
      "execution_count": null,
      "metadata": {
        "id": "n8Pt4pw3MnQc"
      },
      "outputs": [],
      "source": [
        "import tensorflow as tf\n",
        "from os import path, getcwd, chdir\n",
        "import matplotlib.pyplot as plt\n"
      ]
    },
    {
      "cell_type": "code",
      "execution_count": null,
      "metadata": {
        "id": "-MQdZH-jNo7f"
      },
      "outputs": [],
      "source": [
        "path = f\"{getcwd()}/../tmp2/mnist.npz\""
      ]
    },
    {
      "cell_type": "code",
      "execution_count": null,
      "metadata": {
        "id": "oUX2P6cLNuoS"
      },
      "outputs": [],
      "source": [
        "config = tf.compat.v1.ConfigProto()\n",
        "config.gpu_options.allow_growth=True\n",
        "sess = tf.compat.v1.Session(config=config)"
      ]
    },
    {
      "cell_type": "code",
      "execution_count": null,
      "metadata": {
        "colab": {
          "base_uri": "https://localhost:8080/"
        },
        "id": "nur2pT8KOCVI",
        "outputId": "b7c0ba8c-38b6-483d-ea05-c5ff2468f48b"
      },
      "outputs": [
        {
          "name": "stdout",
          "output_type": "stream",
          "text": [
            "Downloading data from https://storage.googleapis.com/tensorflow/tf-keras-datasets/mnist.npz\n",
            "11490434/11490434 [==============================] - 0s 0us/step\n"
          ]
        },
        {
          "data": {
            "text/plain": [
              "(10000, 28, 28)"
            ]
          },
          "execution_count": 2,
          "metadata": {},
          "output_type": "execute_result"
        }
      ],
      "source": [
        "class cbc(tf.keras.callbacks.Callback):\n",
        "  def on_epoch_end(self,epoch,log={}):\n",
        "    if(log.get('accuracy')>0.98):\n",
        "      self.model.stop_training= True\n",
        "cb=cbc()\n",
        "\n",
        "mnist = tf.keras.datasets.mnist\n",
        "(trainim, trainlab), (testim, testlab) = mnist.load_data()\n",
        "trainim.shape\n",
        "testim.shape"
      ]
    },
    {
      "cell_type": "code",
      "execution_count": null,
      "metadata": {
        "id": "_4Ywf6WQRxjK"
      },
      "outputs": [],
      "source": [
        "trainim = trainim.reshape([60000, 28, 28, 1])\n",
        "trainim=trainim/255\n",
        "testim = testim.reshape([10000, 28, 28, 1])\n",
        "testim=testim/255"
      ]
    },
    {
      "cell_type": "code",
      "execution_count": null,
      "metadata": {
        "id": "OyiB-CzfTGPb"
      },
      "outputs": [],
      "source": [
        "model=tf.keras.Sequential([\n",
        "                           tf.keras.layers.Conv2D(32,(3,3),activation='relu', input_shape=(28, 28, 1)),\n",
        "                           tf.keras.layers.MaxPool2D(2,2),\n",
        "                           tf.keras.layers.Conv2D(64,(3,3),activation='relu'),\n",
        "                           tf.keras.layers.MaxPool2D(2,2),\n",
        "                           tf.keras.layers.Flatten(),\n",
        "                           tf.keras.layers.Dense(units=128,activation='relu'),\n",
        "                           tf.keras.layers.Dense(units=10,activation='softmax')]\n",
        "                           )\n",
        "model.summary()"
      ]
    },
    {
      "cell_type": "code",
      "execution_count": null,
      "metadata": {
        "id": "w0gB5LYCUtHK"
      },
      "outputs": [],
      "source": [
        "model.compile(optimizer=tf.keras.optimizers.Adam(),loss=tf.keras.losses.SparseCategoricalCrossentropy(),\n",
        "              metrics=['accuracy'])"
      ]
    },
    {
      "cell_type": "code",
      "execution_count": null,
      "metadata": {
        "colab": {
          "base_uri": "https://localhost:8080/"
        },
        "id": "ytOB9dMDRaxV",
        "outputId": "05685f26-ca8d-47f7-cb41-d2913fd05c46"
      },
      "outputs": [
        {
          "name": "stdout",
          "output_type": "stream",
          "text": [
            "Epoch 1/19\n",
            "1875/1875 [==============================] - 63s 33ms/step - loss: 0.1254 - accuracy: 0.9617\n",
            "Epoch 2/19\n",
            "1875/1875 [==============================] - 61s 32ms/step - loss: 0.0410 - accuracy: 0.9873\n"
          ]
        },
        {
          "data": {
            "text/plain": [
              "<keras.callbacks.History at 0x7f0bb020aad0>"
            ]
          },
          "execution_count": 25,
          "metadata": {},
          "output_type": "execute_result"
        }
      ],
      "source": [
        "model.fit(trainim,trainlab,epochs=19,callbacks=[cb])"
      ]
    },
    {
      "cell_type": "code",
      "execution_count": null,
      "metadata": {
        "colab": {
          "base_uri": "https://localhost:8080/"
        },
        "id": "sp5zk-8GkIWk",
        "outputId": "f75792f8-069c-496a-abb7-d76c3687d39d"
      },
      "outputs": [
        {
          "name": "stdout",
          "output_type": "stream",
          "text": [
            "313/313 [==============================] - 6s 19ms/step - loss: 0.0340 - accuracy: 0.9893\n"
          ]
        },
        {
          "data": {
            "text/plain": [
              "[0.034047167748212814, 0.989300012588501]"
            ]
          },
          "execution_count": 26,
          "metadata": {},
          "output_type": "execute_result"
        }
      ],
      "source": [
        "model.evaluate(testim,testlab)"
      ]
    },
    {
      "cell_type": "code",
      "execution_count": null,
      "metadata": {
        "colab": {
          "base_uri": "https://localhost:8080/",
          "height": 447
        },
        "id": "ezhzvJT1nJTw",
        "outputId": "70da4d85-6318-4f53-ed5e-811c64151232"
      },
      "outputs": [
        {
          "data": {
            "text/plain": [
              "<matplotlib.image.AxesImage at 0x7f0ba1cd6b90>"
            ]
          },
          "execution_count": 33,
          "metadata": {},
          "output_type": "execute_result"
        },
        {
          "data": {
            "image/png": "[encoded data removed]",
            "text/plain": [
              "<Figure size 640x480 with 1 Axes>"
            ]
          },
          "metadata": {},
          "output_type": "display_data"
        }
      ],
      "source": [
        "plt.imshow(testim[106])"
      ]
    },
    {
      "cell_type": "code",
      "execution_count": null,
      "metadata": {
        "colab": {
          "base_uri": "https://localhost:8080/"
        },
        "id": "NGQ_VA4AVfn7",
        "outputId": "b2431e39-0386-48f7-f862-5422a9336274"
      },
      "outputs": [
        {
          "name": "stdout",
          "output_type": "stream",
          "text": [
            "2\n"
          ]
        }
      ],
      "source": [
        "print(testlab[106])"
      ]
    },
    {
      "cell_type": "markdown",
      "metadata": {
        "id": "cJyAElYIpD23"
      },
      "source": [
        "# ***IMAGE GENERATOR***"
      ]
    },
    {
      "cell_type": "code",
      "execution_count": null,
      "metadata": {
        "colab": {
          "base_uri": "https://localhost:8080/"
        },
        "id": "ly4raNPWgjc9",
        "outputId": "f7dd4085-c02d-4369-fae0-18489cca2691"
      },
      "outputs": [
        {
          "name": "stdout",
          "output_type": "stream",
          "text": [
            "--2023-08-23 14:32:20--  https://storage.googleapis.com/tensorflow-1-public/course2/week3/horse-or-human.zip\n",
            "Resolving storage.googleapis.com (storage.googleapis.com)... 74.125.124.128, 172.253.114.128, 172.217.214.128, ...\n",
            "Connecting to storage.googleapis.com (storage.googleapis.com)|74.125.124.128|:443... connected.\n",
            "HTTP request sent, awaiting response... 200 OK\n",
            "Length: 149574867 (143M) [application/zip]\n",
            "Saving to: ‘horse-or-human.zip’\n",
            "\n",
            "horse-or-human.zip  100%[===================>] 142.65M   230MB/s    in 0.6s    \n",
            "\n",
            "2023-08-23 14:32:21 (230 MB/s) - ‘horse-or-human.zip’ saved [149574867/149574867]\n",
            "\n"
          ]
        }
      ],
      "source": [
        "!wget https://storage.googleapis.com/tensorflow-1-public/course2/week3/horse-or-human.zip"
      ]
    },
    {
      "cell_type": "code",
      "execution_count": null,
      "metadata": {
        "id": "WBv7h8uigle5"
      },
      "outputs": [],
      "source": [
        "import zipfile\n",
        "a='./horse-or-human.zip'\n",
        "b=zipfile.ZipFile(a,'r')\n",
        "b.extractall('./horse-or-human')\n",
        "b.close()"
      ]
    },
    {
      "cell_type": "code",
      "execution_count": null,
      "metadata": {
        "id": "zfaSqMwOhaH6"
      },
      "outputs": [],
      "source": [
        "import os\n",
        "t_ho=os.path.join('./horse-or-human/horses')\n",
        "t_hu=os.path.join('./horse-or-human/humans')\n",
        "c=os.listdir(t_ho)\n",
        "d=os.listdir(t_hu)"
      ]
    },
    {
      "cell_type": "code",
      "execution_count": null,
      "metadata": {
        "colab": {
          "base_uri": "https://localhost:8080/"
        },
        "id": "48fl0mr9ij9a",
        "outputId": "8d938644-cadb-40bc-cf5e-253905cd3fd2"
      },
      "outputs": [
        {
          "name": "stdout",
          "output_type": "stream",
          "text": [
            "500\n"
          ]
        }
      ],
      "source": [
        "print(len(c))"
      ]
    },
    {
      "cell_type": "code",
      "execution_count": null,
      "metadata": {
        "id": "PD0-9Yq5iuw7"
      },
      "outputs": [],
      "source": [
        "%matplotlib inline\n",
        "\n",
        "import matplotlib.pyplot as plt\n",
        "import matplotlib.image as mpimg\n",
        "\n",
        "# Parameters for our graph; we'll output images in a 4x4 configuration\n",
        "nrows = 4\n",
        "ncols =4\n",
        "ind=0"
      ]
    },
    {
      "cell_type": "code",
      "execution_count": null,
      "metadata": {
        "id": "NH0niuUnjSLu"
      },
      "outputs": [],
      "source": [
        "fig = plt.gcf()\n",
        "fig.set_size_inches(ncols * 4, nrows * 4)\n",
        "\n",
        "ind += 8\n",
        "next_horse_pix = [os.path.join(t_ho, fname)\n",
        "                for fname in c[ind-8:ind]]\n",
        "next_human_pix = [os.path.join(t_hu, fname)\n",
        "                for fname in d[ind-8:ind]]\n",
        "\n",
        "for i, img_path in enumerate(next_horse_pix+next_human_pix):\n",
        "  # Set up subplot; subplot indices start at 1\n",
        "  sp = plt.subplot(nrows, ncols, i + 1)\n",
        "  sp.axis('Off') # Don't show axes (or gridlines)\n",
        "\n",
        "  img = mpimg.imread(img_path)\n",
        "  plt.imshow(img)\n",
        "\n",
        "plt.show()"
      ]
    },
    {
      "cell_type": "code",
      "execution_count": null,
      "metadata": {
        "id": "QlEw2flckZ6X"
      },
      "outputs": [],
      "source": [
        "import tensorflow as tf\n",
        "model=tf.keras.Sequential([tf.keras.layers.Conv2D(16,(3,3),activation='relu',input_shape=(300,300,3)),tf.keras.layers.MaxPool2D(2,2),\n",
        "                                                   tf.keras.layers.Conv2D(32, (3,3), activation='relu'),\n",
        "                                                    tf.keras.layers.MaxPooling2D(2,2),\n",
        "    # The third convolution\n",
        "                                                     tf.keras.layers.Conv2D(64, (3,3), activation='relu'),\n",
        "                                                   tf.keras.layers.MaxPooling2D(2,2),\n",
        "    # The fourth convolution\n",
        "                                                   tf.keras.layers.Conv2D(64, (3,3), activation='relu'),\n",
        "                                           tf.keras.layers.MaxPooling2D(2,2),\n",
        "    # The fifth convolution\n",
        "                                                 tf.keras.layers.Conv2D(64, (3,3), activation='relu'),\n",
        "                                            tf.keras.layers.MaxPooling2D(2,2),\n",
        "    # Flatten the results to feed into a DNN\n",
        "                                                   tf.keras.layers.Flatten(),\n",
        "    # 512 neuron hidden layer\n",
        "                                           tf.keras.layers.Dense(512, activation='relu'),\n",
        "    # Only 1 output neuron. It will contain a value from 0-1 where 0 for 1 class ('horses') and 1 for the other ('humans')\n",
        "                                                      tf.keras.layers.Dense(1, activation='sigmoid')\n",
        "])\n"
      ]
    },
    {
      "cell_type": "code",
      "execution_count": null,
      "metadata": {
        "id": "3OXsFGgemDVP"
      },
      "outputs": [],
      "source": [
        "model.compile(optimizer=tf.keras.optimizers.RMSprop(),loss=tf.keras.losses.BinaryCrossentropy(),\n",
        "              metrics=['accuracy'])"
      ]
    },
    {
      "cell_type": "code",
      "execution_count": null,
      "metadata": {
        "colab": {
          "base_uri": "https://localhost:8080/"
        },
        "id": "_EiArkxznCFz",
        "outputId": "6040aa3a-9e01-466b-8c12-7fdb5388457a"
      },
      "outputs": [
        {
          "name": "stdout",
          "output_type": "stream",
          "text": [
            "Found 1027 images belonging to 2 classes.\n"
          ]
        }
      ],
      "source": [
        "from tensorflow.keras.preprocessing.image import ImageDataGenerator\n",
        "p=ImageDataGenerator(rescale=1/255)\n",
        "l=p.flow_from_directory('./horse-or-human/',target_size=(300,300),batch_size=128,class_mode='binary')"
      ]
    },
    {
      "cell_type": "code",
      "execution_count": null,
      "metadata": {
        "colab": {
          "background_save": true
        },
        "id": "MI2piahUpVir"
      },
      "outputs": [],
      "source": [
        "h=model.fit(\n",
        "    l,epochs=4,\n",
        "    steps_per_epoch=8,\n",
        "    validation_steps=8)"
      ]
    },
    {
      "cell_type": "code",
      "execution_count": null,
      "metadata": {
        "id": "4HK-Q5V52fwv"
      },
      "outputs": [],
      "source": [
        "import numpy as np\n",
        "from google.colab import files\n",
        "from tensorflow.keras.utils import load_img, img_to_array\n",
        "uploaded = files.upload()\n",
        "for fn in uploaded.keys():\n",
        "  path='/content/'+fn\n",
        "  img= load_img(path, target_size=(300,300))\n",
        "  x=img_to_array(img)\n",
        "  x/=255\n",
        "  x = np.expand_dims(x, axis=0)\n",
        "\n",
        "  images = np.vstack([x])\n",
        "  classes = model.predict(images, batch_size=10)\n",
        "  print(classes[0])\n",
        "\n",
        "  if classes[0]<0.5:\n",
        "    print(fn + \" is a human\")\n",
        "  else:\n",
        "    print(fn + \" is a horse\")\n"
      ]
    }
  ],
  "metadata": {
    "colab": {
      "provenance": [],
      "toc_visible": true,
      "authorship_tag": "ABX9TyNonn5TUcEv2qB9ROG7U786"
    },
    "kernelspec": {
      "display_name": "Python 3",
      "name": "python3"
    },
    "language_info": {
      "name": "python"
    }
  },
  "nbformat": 4,
  "nbformat_minor": 0
}